{
 "cells": [
  {
   "cell_type": "code",
   "execution_count": 29,
   "id": "04f3e98b",
   "metadata": {},
   "outputs": [
    {
     "name": "stdout",
     "output_type": "stream",
     "text": [
      "Output: [1, 3, 4, 5, 6, 7, 10, 11, 12, 13, 18, 19, 21]\n"
     ]
    }
   ],
   "source": [
    "a = [3, 4, 6, 10, 11, 18] \n",
    "b = [1, 5, 7, 12, 13, 19, 21]  \n",
    "op = []\n",
    "i,j=0,0\n",
    "while i<len(a) and j<len(b):\n",
    "    if a[i]<b[j]:\n",
    "        op.append(a[i])\n",
    "        i+=1\n",
    "    else:\n",
    "        op.append(b[j])\n",
    "        j+=1\n",
    "while i<len(a):\n",
    "    op.append(a[i])\n",
    "    i+=1\n",
    "while j<len(b):\n",
    "    op.append(b[j])\n",
    "    j+=1\n",
    "print('Output:', op)"
   ]
  }
 ],
 "metadata": {
  "kernelspec": {
   "display_name": "Python 3 (ipykernel)",
   "language": "python",
   "name": "python3"
  },
  "language_info": {
   "codemirror_mode": {
    "name": "ipython",
    "version": 3
   },
   "file_extension": ".py",
   "mimetype": "text/x-python",
   "name": "python",
   "nbconvert_exporter": "python",
   "pygments_lexer": "ipython3",
   "version": "3.9.7"
  }
 },
 "nbformat": 4,
 "nbformat_minor": 5
}
